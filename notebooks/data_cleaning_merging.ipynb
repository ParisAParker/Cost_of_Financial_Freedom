{
 "cells": [
  {
   "cell_type": "code",
   "execution_count": 4,
   "id": "7f42c464",
   "metadata": {},
   "outputs": [],
   "source": [
    "# Importing necessary libraries\n",
    "import numpy as np\n",
    "import pandas as pd\n",
    "import matplotlib.pyplot as plt\n",
    "import seaborn as sns\n",
    "import re"
   ]
  },
  {
   "cell_type": "code",
   "execution_count": 5,
   "id": "a85e2c13",
   "metadata": {},
   "outputs": [
    {
     "name": "stderr",
     "output_type": "stream",
     "text": [
      "c:\\Users\\kidsa\\anaconda3\\Lib\\site-packages\\openpyxl\\styles\\stylesheet.py:226: UserWarning: Workbook contains no default style, apply openpyxl's default\n",
      "  warn(\"Workbook contains no default style, apply openpyxl's default\")\n"
     ]
    }
   ],
   "source": [
    "# Reading in necessary files\n",
    "cpi_by_region = pd.read_csv(\"../data/cpi_by_region.csv\")\n",
    "income = pd.read_excel(\"../data/median_income.xlsx\", skiprows = 7 )\n",
    "all_cpi = pd.read_excel(\"../data/cpi_data.xlsx\", skiprows = 11)"
   ]
  },
  {
   "cell_type": "code",
   "execution_count": 3,
   "id": "9aff16cb",
   "metadata": {},
   "outputs": [],
   "source": [
    "# Removing metadata\n",
    "income_updated = income[1:]\n",
    "income_updated = income_updated[:58]"
   ]
  },
  {
   "cell_type": "code",
   "execution_count": 7,
   "id": "8b0ae8b8",
   "metadata": {},
   "outputs": [],
   "source": [
    "# Converting year column into int dtype\n",
    "income_updated['Race, Hispanic origin, and year'] = income_updated['Race, Hispanic origin, and year'].astype(str).str[:4]\n",
    "income_updated['Race, Hispanic origin, and year'] = income_updated['Race, Hispanic origin, and year'].astype(int)"
   ]
  },
  {
   "cell_type": "code",
   "execution_count": 8,
   "id": "a35bd6a0",
   "metadata": {},
   "outputs": [],
   "source": [
    "# Subsetting dataframe for necessary columns\n",
    "income_updated = income_updated[['Race, Hispanic origin, and year','Median income']]"
   ]
  },
  {
   "cell_type": "code",
   "execution_count": 9,
   "id": "cc477d7b",
   "metadata": {},
   "outputs": [],
   "source": [
    "# Renaming columns\n",
    "income_updated = income_updated.rename(columns = {'Race, Hispanic origin, and year':'year',\"Median income\":'median_income'})"
   ]
  },
  {
   "cell_type": "code",
   "execution_count": 8,
   "id": "a45e7ad7",
   "metadata": {},
   "outputs": [],
   "source": [
    "# Exporting clean income data to data folder\n",
    "income_updated.to_csv(\"../data/income_updated.csv\")"
   ]
  },
  {
   "cell_type": "code",
   "execution_count": 10,
   "id": "8570db87",
   "metadata": {},
   "outputs": [],
   "source": [
    "# Turning monthly CPI data in yearly data\n",
    "cpi_by_year = cpi_by_region.query(\"Region == 'U.S. city average' & Month == 'December'\")"
   ]
  },
  {
   "cell_type": "code",
   "execution_count": 11,
   "id": "2917b12c",
   "metadata": {},
   "outputs": [],
   "source": [
    "# Removing metadata and getting year to year percent change for CPI\n",
    "all_cpi_data = all_cpi.sort_values(ascending = False, by = \"Year\")[1:]\n",
    "all_cpi_data = all_cpi_data[['Year','Dec']]\n",
    "all_cpi_data['yearly_change'] = (all_cpi_data['Dec'].pct_change(periods = -1))*100"
   ]
  },
  {
   "cell_type": "code",
   "execution_count": 12,
   "id": "dbc8bf94",
   "metadata": {},
   "outputs": [],
   "source": [
    "# Renaming columns\n",
    "all_cpi_data = all_cpi_data.rename(columns = {'Year':'year','Dec':'CPI','yearly_change':'yearly_change_c'})"
   ]
  },
  {
   "cell_type": "code",
   "execution_count": 13,
   "id": "4bca365b",
   "metadata": {},
   "outputs": [],
   "source": [
    "# Shows the year to year percentage change for income\n",
    "income_updated['yearly_change'] = (income_updated['median_income'].pct_change(periods = -1))*100\n",
    "income_updated = income_updated.rename(columns = {\"yearly_change\":\"yearly_change_i\"})"
   ]
  },
  {
   "cell_type": "code",
   "execution_count": 14,
   "id": "4bc42849",
   "metadata": {},
   "outputs": [],
   "source": [
    "# Merge cpi data with income data so we can calculate a column that shows how the value of our money has changed\n",
    "cpi_income = all_cpi_data.merge(right = income_updated, how = 'inner', on = 'year')"
   ]
  },
  {
   "cell_type": "code",
   "execution_count": 15,
   "id": "5537e05c",
   "metadata": {},
   "outputs": [],
   "source": [
    "# Create a column to show how the value of money changed each year\n",
    "cpi_income['income_change'] = cpi_income['yearly_change_i'] - cpi_income['yearly_change_c']\n",
    "\n",
    "# Sort values by year then run cumulative sum function\n",
    "cpi_income = cpi_income.sort_values(by = 'year', ascending = True)\n",
    "cpi_income['cum_income_change'] = cpi_income['income_change'].cumsum()\n",
    "\n",
    "# Run cmulative sum function on CPI\n",
    "cpi_income['cum_cpi_change'] = cpi_income['yearly_change_c'].cumsum()"
   ]
  },
  {
   "cell_type": "code",
   "execution_count": 20,
   "id": "c9c2d5e7",
   "metadata": {},
   "outputs": [],
   "source": [
    "# Export dataframes as csvs\n",
    "all_cpi_data.to_csv(\"../data/all_cpi_updated.csv\")\n",
    "income_updated.to_csv(\"../data/accurate_income.csv\")\n",
    "cpi_income.to_csv(\"../data/cpi_income.csv\")"
   ]
  }
 ],
 "metadata": {
  "kernelspec": {
   "display_name": "Python 3 (ipykernel)",
   "language": "python",
   "name": "python3"
  },
  "language_info": {
   "codemirror_mode": {
    "name": "ipython",
    "version": 3
   },
   "file_extension": ".py",
   "mimetype": "text/x-python",
   "name": "python",
   "nbconvert_exporter": "python",
   "pygments_lexer": "ipython3",
   "version": "3.11.5"
  }
 },
 "nbformat": 4,
 "nbformat_minor": 5
}
